{
 "cells": [
  {
   "cell_type": "code",
   "execution_count": 46,
   "id": "32bf6f72",
   "metadata": {},
   "outputs": [],
   "source": [
    "import pandas as pd\n",
    "from sklearn.tree import DecisionTreeClassifier\n",
    "import joblib\n",
    "dataset = pd.read_csv('deportes.csv')"
   ]
  },
  {
   "cell_type": "code",
   "execution_count": 47,
   "id": "ec83633c",
   "metadata": {},
   "outputs": [
    {
     "data": {
      "text/html": [
       "<div>\n",
       "<style scoped>\n",
       "    .dataframe tbody tr th:only-of-type {\n",
       "        vertical-align: middle;\n",
       "    }\n",
       "\n",
       "    .dataframe tbody tr th {\n",
       "        vertical-align: top;\n",
       "    }\n",
       "\n",
       "    .dataframe thead th {\n",
       "        text-align: right;\n",
       "    }\n",
       "</style>\n",
       "<table border=\"1\" class=\"dataframe\">\n",
       "  <thead>\n",
       "    <tr style=\"text-align: right;\">\n",
       "      <th></th>\n",
       "      <th>genero</th>\n",
       "      <th>edad</th>\n",
       "      <th>deporte</th>\n",
       "    </tr>\n",
       "  </thead>\n",
       "  <tbody>\n",
       "    <tr>\n",
       "      <th>0</th>\n",
       "      <td>1</td>\n",
       "      <td>21</td>\n",
       "      <td>Football</td>\n",
       "    </tr>\n",
       "    <tr>\n",
       "      <th>1</th>\n",
       "      <td>1</td>\n",
       "      <td>24</td>\n",
       "      <td>Football</td>\n",
       "    </tr>\n",
       "    <tr>\n",
       "      <th>2</th>\n",
       "      <td>1</td>\n",
       "      <td>25</td>\n",
       "      <td>Football</td>\n",
       "    </tr>\n",
       "    <tr>\n",
       "      <th>3</th>\n",
       "      <td>1</td>\n",
       "      <td>26</td>\n",
       "      <td>Volleyball</td>\n",
       "    </tr>\n",
       "    <tr>\n",
       "      <th>4</th>\n",
       "      <td>1</td>\n",
       "      <td>29</td>\n",
       "      <td>Volleyball</td>\n",
       "    </tr>\n",
       "  </tbody>\n",
       "</table>\n",
       "</div>"
      ],
      "text/plain": [
       "   genero  edad     deporte\n",
       "0       1    21    Football\n",
       "1       1    24    Football\n",
       "2       1    25    Football\n",
       "3       1    26  Volleyball\n",
       "4       1    29  Volleyball"
      ]
     },
     "execution_count": 47,
     "metadata": {},
     "output_type": "execute_result"
    }
   ],
   "source": [
    "dataset.head()"
   ]
  },
  {
   "cell_type": "code",
   "execution_count": 48,
   "id": "6526481c",
   "metadata": {},
   "outputs": [],
   "source": [
    "inputs = dataset.drop(columns = ['deporte']) # Elimina la columna de deporte\n",
    "outputs = dataset['deporte'] # Muestra los datos solo de la columna de deporte\n"
   ]
  },
  {
   "cell_type": "code",
   "execution_count": 49,
   "id": "f6eac72e",
   "metadata": {},
   "outputs": [
    {
     "data": {
      "text/plain": [
       "DecisionTreeClassifier()"
      ]
     },
     "execution_count": 49,
     "metadata": {},
     "output_type": "execute_result"
    }
   ],
   "source": [
    "modelo = DecisionTreeClassifier()\n",
    "\n",
    "# Entrenamiento del modelo\n",
    "modelo.fit(inputs, outputs) "
   ]
  },
  {
   "cell_type": "code",
   "execution_count": 50,
   "id": "5622fdf4",
   "metadata": {},
   "outputs": [
    {
     "data": {
      "text/plain": [
       "['deportes-ml.joblib']"
      ]
     },
     "execution_count": 50,
     "metadata": {},
     "output_type": "execute_result"
    }
   ],
   "source": [
    "# Exportar el modelo entrenado para utilizarlo posteriormente en otro programa\n",
    "joblib.dump(modelo, 'deportes-ml.joblib')"
   ]
  },
  {
   "cell_type": "code",
   "execution_count": 51,
   "id": "1397538c",
   "metadata": {},
   "outputs": [],
   "source": [
    "modelo2 = joblib.load('deportes-ml.joblib') #Cargar el modelo ya guardado"
   ]
  },
  {
   "cell_type": "code",
   "execution_count": 59,
   "id": "11f26019",
   "metadata": {},
   "outputs": [
    {
     "name": "stderr",
     "output_type": "stream",
     "text": [
      "/Users/kenneturrutia/opt/anaconda3/lib/python3.9/site-packages/sklearn/base.py:450: UserWarning: X does not have valid feature names, but DecisionTreeClassifier was fitted with feature names\n",
      "  warnings.warn(\n"
     ]
    }
   ],
   "source": [
    "predicciones = modelo2.predict([ [1, 24], [2, 33] ]) #Realizar Predicció"
   ]
  },
  {
   "cell_type": "code",
   "execution_count": 58,
   "id": "05111fe6",
   "metadata": {},
   "outputs": [
    {
     "data": {
      "text/plain": [
       "array(['Volleyball', 'Basket'], dtype=object)"
      ]
     },
     "execution_count": 58,
     "metadata": {},
     "output_type": "execute_result"
    }
   ],
   "source": [
    "predicciones"
   ]
  },
  {
   "cell_type": "code",
   "execution_count": null,
   "id": "e3cad18e",
   "metadata": {},
   "outputs": [],
   "source": []
  }
 ],
 "metadata": {
  "kernelspec": {
   "display_name": "Python 3 (ipykernel)",
   "language": "python",
   "name": "python3"
  },
  "language_info": {
   "codemirror_mode": {
    "name": "ipython",
    "version": 3
   },
   "file_extension": ".py",
   "mimetype": "text/x-python",
   "name": "python",
   "nbconvert_exporter": "python",
   "pygments_lexer": "ipython3",
   "version": "3.9.12"
  }
 },
 "nbformat": 4,
 "nbformat_minor": 5
}
